{
 "cells": [
  {
   "cell_type": "code",
   "execution_count": 1,
   "id": "2408ccc7",
   "metadata": {},
   "outputs": [],
   "source": [
    "import pandas as pd\n",
    "import numpy as np \n",
    "import itertools\n",
    "import keras\n",
    "from sklearn import metrics\n",
    "from sklearn.metrics import confusion_matrix\n",
    "from keras.preprocessing.image import ImageDataGenerator, img_to_array, load_img \n",
    "from keras.models import Sequential \n",
    "from keras import optimizers\n",
    "from keras.preprocessing import image\n",
    "from keras.layers import Dropout, Flatten, Dense  \n",
    "from keras import applications  \n",
    "from keras.utils.np_utils import to_categorical  \n",
    "import matplotlib.pyplot as plt \n",
    "import matplotlib.image as mpimg\n",
    "%matplotlib inline\n",
    "import math  \n",
    "import datetime\n",
    "import time"
   ]
  },
  {
   "cell_type": "code",
   "execution_count": 2,
   "id": "78781b7b",
   "metadata": {},
   "outputs": [
    {
     "name": "stdout",
     "output_type": "stream",
     "text": [
      "Num GPUs Available:  1\n"
     ]
    }
   ],
   "source": [
    "import tensorflow as tf\n",
    "print(\"Num GPUs Available: \", len(tf.config.experimental.list_physical_devices('GPU')))\n",
    "# physical_devices = tf.config.list_physical_devices('GPU') \n",
    "# tf.config.experimental.set_memory_growth(physical_devices[0], Tru"
   ]
  },
  {
   "cell_type": "code",
   "execution_count": 3,
   "id": "fba3c0b5",
   "metadata": {},
   "outputs": [],
   "source": [
    "# dimensions of our images.  \n",
    "img_width, img_height = 224, 224  \n",
    "   \n",
    "top_model_weights_path = 'bottleneck_fc_model.h5'  \n",
    "train_data_dir = 'data/train'  \n",
    "validation_data_dir = 'data/validation' \n",
    "test_data_dir= 'data/test'\n",
    "   \n",
    "# number of epochs to train top model  \n",
    "epochs = 100  \n",
    "# batch size used by flow_from_directory and predict_generator  \n",
    "batch_size = 36"
   ]
  },
  {
   "cell_type": "code",
   "execution_count": 4,
   "id": "5ebee713",
   "metadata": {},
   "outputs": [],
   "source": [
    "from tensorflow.keras import applications\n",
    "inc = applications.InceptionResNetV2(include_top=False, weights='imagenet') "
   ]
  },
  {
   "cell_type": "code",
   "execution_count": 5,
   "id": "9865b429",
   "metadata": {},
   "outputs": [],
   "source": [
    "datagen = ImageDataGenerator(rescale=1. / 255)  #needed to create the bottleneck"
   ]
  },
  {
   "cell_type": "code",
   "execution_count": 6,
   "id": "e8551ef5",
   "metadata": {},
   "outputs": [
    {
     "name": "stdout",
     "output_type": "stream",
     "text": [
      "Found 3852 images belonging to 4 classes.\n"
     ]
    },
    {
     "name": "stderr",
     "output_type": "stream",
     "text": [
      "c:\\users\\nishanth gowda\\appdata\\local\\programs\\python\\python38\\lib\\site-packages\\keras\\engine\\training.py:2035: UserWarning: `Model.predict_generator` is deprecated and will be removed in a future version. Please use `Model.predict`, which supports generators.\n",
      "  warnings.warn('`Model.predict_generator` is deprecated and '\n"
     ]
    },
    {
     "name": "stdout",
     "output_type": "stream",
     "text": [
      "Time:  0:00:39.214419\n"
     ]
    }
   ],
   "source": [
    "#__this can take an hour and half to run so only run it once. \n",
    "#once the npy files have been created, no need to run again. Convert this cell to a code cell to run.__\n",
    "\n",
    "start = datetime.datetime.now()\n",
    "   \n",
    "generator = datagen.flow_from_directory(  \n",
    "     train_data_dir,  \n",
    "     target_size=(img_width, img_height),  \n",
    "     batch_size=batch_size,  \n",
    "     class_mode=None,  \n",
    "     shuffle=False)  \n",
    "   \n",
    "nb_train_samples = len(generator.filenames)  \n",
    "num_classes = len(generator.class_indices)  \n",
    "   \n",
    "predict_size_train = int(math.ceil(nb_train_samples / batch_size))  \n",
    "   \n",
    "bottleneck_features_train = inc.predict_generator(generator, predict_size_train)  \n",
    "   \n",
    "np.save('bottleneck_features_train.npy', bottleneck_features_train)\n",
    "end= datetime.datetime.now()\n",
    "elapsed= end-start\n",
    "print ('Time: ', elapsed)"
   ]
  },
  {
   "cell_type": "code",
   "execution_count": 7,
   "id": "c93d75bb",
   "metadata": {},
   "outputs": [
    {
     "name": "stdout",
     "output_type": "stream",
     "text": [
      "---------------------------------------------------------------------------------------------------------------------\n"
     ]
    }
   ],
   "source": [
    "print('-'*117)"
   ]
  },
  {
   "cell_type": "code",
   "execution_count": 8,
   "id": "dbe6fd9a",
   "metadata": {},
   "outputs": [
    {
     "name": "stdout",
     "output_type": "stream",
     "text": [
      "Found 3852 images belonging to 4 classes.\n",
      "Time:  0:00:31.909453\n"
     ]
    }
   ],
   "source": [
    "#__this can take half an hour to run so only run it once. once the npy files have been created, no need to run again. Convert this cell to a code cell to run.__\n",
    "\n",
    "start = datetime.datetime.now()\n",
    "generator = datagen.flow_from_directory(  \n",
    "     validation_data_dir,  \n",
    "     target_size=(img_width, img_height),  \n",
    "     batch_size=batch_size,  \n",
    "     class_mode=None,  \n",
    "     shuffle=False)  \n",
    "   \n",
    "nb_validation_samples = len(generator.filenames)  \n",
    "   \n",
    "predict_size_validation = int(math.ceil(nb_validation_samples / batch_size))  \n",
    "   \n",
    "bottleneck_features_validation = inc.predict_generator(  \n",
    "     generator, predict_size_validation)  \n",
    "   \n",
    "np.save('bottleneck_features_validation.npy', bottleneck_features_validation) \n",
    "end= datetime.datetime.now()\n",
    "elapsed= end-start\n",
    "print ('Time: ', elapsed)"
   ]
  },
  {
   "cell_type": "code",
   "execution_count": 9,
   "id": "a2286538",
   "metadata": {},
   "outputs": [
    {
     "name": "stdout",
     "output_type": "stream",
     "text": [
      "---------------------------------------------------------------------------------------------------------------------\n"
     ]
    }
   ],
   "source": [
    "print('-'*117)"
   ]
  },
  {
   "cell_type": "code",
   "execution_count": 10,
   "id": "76163d9c",
   "metadata": {},
   "outputs": [
    {
     "name": "stdout",
     "output_type": "stream",
     "text": [
      "Found 132 images belonging to 4 classes.\n",
      "Time:  0:00:02.820032\n"
     ]
    }
   ],
   "source": [
    "#__this can take half an hour to run so only run it once. once the npy files have been created, no need to run again. Convert this cell to a code cell to run.__\n",
    "\n",
    "start = datetime.datetime.now()\n",
    "generator = datagen.flow_from_directory(  \n",
    "     test_data_dir,  \n",
    "     target_size=(img_width, img_height),  \n",
    "     batch_size=batch_size,  \n",
    "     class_mode=None,  \n",
    "     shuffle=False)  \n",
    "   \n",
    "nb_test_samples = len(generator.filenames)  \n",
    "   \n",
    "predict_size_test = int(math.ceil(nb_test_samples / batch_size))  \n",
    "   \n",
    "bottleneck_features_test = inc.predict_generator(  \n",
    "     generator, predict_size_test)  \n",
    "   \n",
    "np.save('bottleneck_features_test.npy', bottleneck_features_test) \n",
    "end= datetime.datetime.now()\n",
    "elapsed= end-start\n",
    "print ('Time: ', elapsed)"
   ]
  },
  {
   "cell_type": "code",
   "execution_count": null,
   "id": "f07de64d",
   "metadata": {},
   "outputs": [],
   "source": []
  },
  {
   "cell_type": "code",
   "execution_count": 6,
   "id": "e78f9c10",
   "metadata": {},
   "outputs": [
    {
     "name": "stdout",
     "output_type": "stream",
     "text": [
      "Found 3852 images belonging to 4 classes.\n"
     ]
    }
   ],
   "source": [
    "generator_top = datagen.flow_from_directory(  \n",
    "         train_data_dir,  \n",
    "         target_size=(img_width, img_height),  \n",
    "         batch_size=batch_size,  \n",
    "         class_mode='categorical',  \n",
    "         shuffle=False)  \n",
    "   \n",
    "nb_train_samples = len(generator_top.filenames)  \n",
    "num_classes = len(generator_top.class_indices)  \n",
    "   \n",
    "# load the bottleneck features saved earlier  \n",
    "train_data = np.load('bottleneck_features_train.npy')  \n",
    "   \n",
    "# get the class lebels for the training data, in the original order  \n",
    "train_labels = generator_top.classes  \n",
    "   \n",
    "# convert the training labels to categorical vectors  \n",
    "train_labels = to_categorical(train_labels, num_classes=num_classes) \n"
   ]
  },
  {
   "cell_type": "code",
   "execution_count": 7,
   "id": "54a590a5",
   "metadata": {},
   "outputs": [
    {
     "name": "stdout",
     "output_type": "stream",
     "text": [
      "Found 3852 images belonging to 4 classes.\n"
     ]
    }
   ],
   "source": [
    "#validation data\n",
    "generator_top = datagen.flow_from_directory(  \n",
    "         validation_data_dir,  \n",
    "         target_size=(img_width, img_height),  \n",
    "         batch_size=batch_size,  \n",
    "         class_mode=None,  \n",
    "         shuffle=False)  \n",
    "   \n",
    "nb_validation_samples = len(generator_top.filenames)  \n",
    "   \n",
    "validation_data = np.load('bottleneck_features_validation.npy')  \n",
    "   \n",
    "\n",
    "validation_labels = generator_top.classes  \n",
    "validation_labels = to_categorical(validation_labels, num_classes=num_classes)  \n"
   ]
  },
  {
   "cell_type": "code",
   "execution_count": 8,
   "id": "e37ac1a5",
   "metadata": {},
   "outputs": [
    {
     "name": "stdout",
     "output_type": "stream",
     "text": [
      "Found 132 images belonging to 4 classes.\n"
     ]
    }
   ],
   "source": [
    "#testing data\n",
    "generator_top = datagen.flow_from_directory(  \n",
    "         test_data_dir,  \n",
    "         target_size=(img_width, img_height),  \n",
    "         batch_size=batch_size,  \n",
    "         class_mode=None,  \n",
    "         shuffle=False)  \n",
    "   \n",
    "nb_test_samples = len(generator_top.filenames)  \n",
    "   \n",
    "test_data = np.load('bottleneck_features_test.npy')  \n",
    "   \n",
    "\n",
    "test_labels = generator_top.classes  \n",
    "test_labels = to_categorical(test_labels, num_classes=num_classes)"
   ]
  },
  {
   "cell_type": "code",
   "execution_count": 9,
   "id": "87cf5a75",
   "metadata": {},
   "outputs": [],
   "source": [
    "from tensorflow.keras import optimizers"
   ]
  },
  {
   "cell_type": "code",
   "execution_count": 10,
   "id": "290126e7",
   "metadata": {},
   "outputs": [
    {
     "name": "stderr",
     "output_type": "stream",
     "text": [
      "c:\\users\\nishanth gowda\\appdata\\local\\programs\\python\\python38\\lib\\site-packages\\keras\\optimizer_v2\\optimizer_v2.py:355: UserWarning: The `lr` argument is deprecated, use `learning_rate` instead.\n",
      "  warnings.warn(\n"
     ]
    },
    {
     "name": "stdout",
     "output_type": "stream",
     "text": [
      "Epoch 1/7\n",
      "107/107 [==============================] - 3s 17ms/step - loss: 0.8708 - acc: 0.7736 - val_loss: 0.2303 - val_acc: 0.9187\n",
      "Epoch 2/7\n",
      "107/107 [==============================] - 1s 11ms/step - loss: 0.4564 - acc: 0.8697 - val_loss: 0.1481 - val_acc: 0.9491\n",
      "Epoch 3/7\n",
      "107/107 [==============================] - 1s 10ms/step - loss: 0.3737 - acc: 0.8962 - val_loss: 0.1221 - val_acc: 0.9574\n",
      "Epoch 4/7\n",
      "107/107 [==============================] - 1s 10ms/step - loss: 0.3467 - acc: 0.9058 - val_loss: 0.3497 - val_acc: 0.8795\n",
      "Epoch 5/7\n",
      "107/107 [==============================] - 1s 10ms/step - loss: 0.2572 - acc: 0.9278 - val_loss: 0.0716 - val_acc: 0.9727\n",
      "Epoch 6/7\n",
      "107/107 [==============================] - 1s 11ms/step - loss: 0.2500 - acc: 0.9338 - val_loss: 0.0659 - val_acc: 0.9746\n",
      "Epoch 7/7\n",
      "107/107 [==============================] - 1s 10ms/step - loss: 0.2247 - acc: 0.9356 - val_loss: 0.1157 - val_acc: 0.9613\n",
      "107/107 [==============================] - 1s 5ms/step - loss: 0.1157 - acc: 0.9613\n",
      "[INFO] accuracy: 96.13%\n",
      "[INFO] Loss: 0.11571837216615677\n",
      "Time:  0:00:11.635272\n"
     ]
    }
   ],
   "source": [
    "#This is the best model we found. For additional models, check out I_notebook.ipynb\n",
    "start = datetime.datetime.now()\n",
    "model = Sequential()  \n",
    "model.add(Flatten(input_shape=train_data.shape[1:]))  \n",
    "model.add(Dense(100, activation=keras.layers.LeakyReLU(alpha=0.3)))  \n",
    "model.add(Dropout(0.5))  \n",
    "model.add(Dense(50, activation=keras.layers.LeakyReLU(alpha=0.3)))  \n",
    "model.add(Dropout(0.3)) \n",
    "model.add(Dense(num_classes, activation='softmax'))  \n",
    "\n",
    "model.compile(loss='categorical_crossentropy',\n",
    "              optimizer=optimizers.RMSprop(lr=1e-4),\n",
    "              metrics=['acc'])  \n",
    "\n",
    "history = model.fit(train_data, train_labels,  \n",
    "      epochs=7,\n",
    "      batch_size=batch_size,  \n",
    "      validation_data=(validation_data, validation_labels))  \n",
    "\n",
    "model.save_weights(top_model_weights_path)  \n",
    "\n",
    "(eval_loss, eval_accuracy) = model.evaluate(  \n",
    " validation_data, validation_labels, batch_size=batch_size, verbose=1)\n",
    "\n",
    "print(\"[INFO] accuracy: {:.2f}%\".format(eval_accuracy * 100))  \n",
    "print(\"[INFO] Loss: {}\".format(eval_loss))  \n",
    "end= datetime.datetime.now()\n",
    "elapsed= end-start\n",
    "print ('Time: ', elapsed)"
   ]
  },
  {
   "cell_type": "code",
   "execution_count": 11,
   "id": "339e4cb6",
   "metadata": {},
   "outputs": [
    {
     "name": "stdout",
     "output_type": "stream",
     "text": [
      "Model: \"sequential\"\n",
      "_________________________________________________________________\n",
      "Layer (type)                 Output Shape              Param #   \n",
      "=================================================================\n",
      "flatten (Flatten)            (None, 38400)             0         \n",
      "_________________________________________________________________\n",
      "dense (Dense)                (None, 100)               3840100   \n",
      "_________________________________________________________________\n",
      "dropout (Dropout)            (None, 100)               0         \n",
      "_________________________________________________________________\n",
      "dense_1 (Dense)              (None, 50)                5050      \n",
      "_________________________________________________________________\n",
      "dropout_1 (Dropout)          (None, 50)                0         \n",
      "_________________________________________________________________\n",
      "dense_2 (Dense)              (None, 4)                 204       \n",
      "=================================================================\n",
      "Total params: 3,845,354\n",
      "Trainable params: 3,845,354\n",
      "Non-trainable params: 0\n",
      "_________________________________________________________________\n"
     ]
    }
   ],
   "source": [
    "#Model summary\n",
    "model.summary()"
   ]
  },
  {
   "cell_type": "code",
   "execution_count": 12,
   "id": "9ad8df8f",
   "metadata": {},
   "outputs": [
    {
     "data": {
      "image/png": "[encoded data removed]",
      "text/plain": [
       "<Figure size 432x288 with 1 Axes>"
      ]
     },
     "metadata": {
      "needs_background": "light"
     },
     "output_type": "display_data"
    },
    {
     "data": {
      "image/png": "[encoded data removed]",
      "text/plain": [
       "<Figure size 432x288 with 1 Axes>"
      ]
     },
     "metadata": {
      "needs_background": "light"
     },
     "output_type": "display_data"
    }
   ],
   "source": [
    "#Graphing our training and validation\n",
    "acc = history.history['acc']\n",
    "val_acc = history.history['val_acc']\n",
    "loss = history.history['loss']\n",
    "val_loss = history.history['val_loss']\n",
    "epochs = range(len(acc))\n",
    "plt.plot(epochs, acc, 'r', label='Training acc')\n",
    "plt.plot(epochs, val_acc, 'b', label='Validation acc')\n",
    "plt.title('Training and validation accuracy')\n",
    "plt.ylabel('accuracy')  \n",
    "plt.xlabel('epoch')\n",
    "plt.legend()\n",
    "plt.figure()\n",
    "plt.plot(epochs, loss, 'r', label='Training loss')\n",
    "plt.plot(epochs, val_loss, 'b', label='Validation loss')\n",
    "plt.title('Training and validation loss')\n",
    "plt.ylabel('loss')  \n",
    "plt.xlabel('epoch')\n",
    "plt.legend()\n",
    "plt.show()"
   ]
  },
  {
   "cell_type": "code",
   "execution_count": 13,
   "id": "2aebc86e",
   "metadata": {},
   "outputs": [
    {
     "name": "stdout",
     "output_type": "stream",
     "text": [
      "5/5 [==============================] - 0s 8ms/step - loss: 0.2045 - acc: 0.9242\n"
     ]
    },
    {
     "data": {
      "text/plain": [
       "[0.20449870824813843, 0.9242424368858337]"
      ]
     },
     "execution_count": 13,
     "metadata": {},
     "output_type": "execute_result"
    }
   ],
   "source": [
    "model.evaluate(test_data, test_labels)"
   ]
  },
  {
   "cell_type": "code",
   "execution_count": 14,
   "id": "ef541873",
   "metadata": {},
   "outputs": [
    {
     "name": "stdout",
     "output_type": "stream",
     "text": [
      "test data [[[[0.00000000e+00 0.00000000e+00 0.00000000e+00 ... 0.00000000e+00\n",
      "    0.00000000e+00 0.00000000e+00]\n",
      "   [0.00000000e+00 0.00000000e+00 0.00000000e+00 ... 0.00000000e+00\n",
      "    0.00000000e+00 0.00000000e+00]\n",
      "   [0.00000000e+00 0.00000000e+00 0.00000000e+00 ... 8.25499654e-01\n",
      "    6.82944655e-01 0.00000000e+00]\n",
      "   [5.86296976e-01 4.61827010e-01 5.08192480e-01 ... 1.44897497e+00\n",
      "    1.17924023e+00 0.00000000e+00]\n",
      "   [0.00000000e+00 1.21522629e+00 8.12945724e-01 ... 1.66205037e+00\n",
      "    1.12771285e+00 0.00000000e+00]]\n",
      "\n",
      "  [[0.00000000e+00 0.00000000e+00 0.00000000e+00 ... 0.00000000e+00\n",
      "    0.00000000e+00 0.00000000e+00]\n",
      "   [0.00000000e+00 0.00000000e+00 1.43686712e-01 ... 0.00000000e+00\n",
      "    0.00000000e+00 0.00000000e+00]\n",
      "   [0.00000000e+00 5.22451639e-01 6.10143721e-01 ... 1.34317505e+00\n",
      "    1.25251138e+00 0.00000000e+00]\n",
      "   [0.00000000e+00 7.33275592e-01 1.80526897e-01 ... 1.25819373e+00\n",
      "    8.98338437e-01 0.00000000e+00]\n",
      "   [1.85014717e-02 7.17172503e-01 7.69410193e-01 ... 1.00424230e+00\n",
      "    1.07646811e+00 9.09228250e-03]]\n",
      "\n",
      "  [[0.00000000e+00 0.00000000e+00 0.00000000e+00 ... 0.00000000e+00\n",
      "    0.00000000e+00 0.00000000e+00]\n",
      "   [0.00000000e+00 2.33360548e-02 3.94203588e-02 ... 0.00000000e+00\n",
      "    6.68443680e-01 0.00000000e+00]\n",
      "   [0.00000000e+00 1.00306475e+00 0.00000000e+00 ... 5.93875013e-02\n",
      "    6.56462371e-01 5.17577589e-01]\n",
      "   [0.00000000e+00 8.85926306e-01 1.53376043e-01 ... 1.40249884e+00\n",
      "    1.12609649e+00 8.72794464e-02]\n",
      "   [0.00000000e+00 3.22885007e-01 6.85286462e-01 ... 5.20119905e-01\n",
      "    1.01021707e+00 0.00000000e+00]]\n",
      "\n",
      "  [[0.00000000e+00 0.00000000e+00 0.00000000e+00 ... 0.00000000e+00\n",
      "    0.00000000e+00 2.10272700e-01]\n",
      "   [1.21284850e-01 3.07833135e-01 5.42872436e-02 ... 0.00000000e+00\n",
      "    0.00000000e+00 7.00279295e-01]\n",
      "   [0.00000000e+00 4.54467803e-01 0.00000000e+00 ... 2.16221400e-02\n",
      "    1.17428803e+00 0.00000000e+00]\n",
      "   [0.00000000e+00 9.70809996e-01 4.65887785e-02 ... 5.52391529e-01\n",
      "    1.48098409e+00 0.00000000e+00]\n",
      "   [0.00000000e+00 1.03401041e+00 1.08713973e+00 ... 0.00000000e+00\n",
      "    1.19093227e+00 0.00000000e+00]]\n",
      "\n",
      "  [[0.00000000e+00 0.00000000e+00 3.47961575e-01 ... 0.00000000e+00\n",
      "    0.00000000e+00 2.06834942e-01]\n",
      "   [0.00000000e+00 8.09338033e-01 1.25496995e+00 ... 1.24786116e-01\n",
      "    0.00000000e+00 3.89963597e-01]\n",
      "   [0.00000000e+00 0.00000000e+00 5.32134354e-01 ... 9.22179222e-01\n",
      "    2.19648266e+00 0.00000000e+00]\n",
      "   [5.99883258e-01 1.72458999e-02 0.00000000e+00 ... 1.03676176e+00\n",
      "    1.92801762e+00 0.00000000e+00]\n",
      "   [1.31411150e-01 9.07127619e-01 2.32528538e-01 ... 7.61573017e-01\n",
      "    6.13820493e-01 0.00000000e+00]]]\n",
      "\n",
      "\n",
      " [[[8.56171966e-01 5.03473878e-01 0.00000000e+00 ... 8.07503104e-01\n",
      "    8.69697556e-02 1.13791621e+00]\n",
      "   [1.28415823e+00 4.41249818e-01 0.00000000e+00 ... 3.10109198e-01\n",
      "    7.47833252e-01 3.26948023e+00]\n",
      "   [1.56158984e+00 7.20427871e-01 3.87463212e-01 ... 0.00000000e+00\n",
      "    2.44344306e+00 1.81294394e+00]\n",
      "   [1.68290746e+00 0.00000000e+00 4.64201927e-01 ... 6.84648752e-01\n",
      "    2.37622523e+00 6.83741748e-01]\n",
      "   [1.35473573e+00 3.61243635e-01 1.47492826e+00 ... 2.82146096e+00\n",
      "    4.13240242e+00 4.36807394e-01]]\n",
      "\n",
      "  [[1.02360606e+00 5.83949268e-01 0.00000000e+00 ... 8.83201718e-01\n",
      "    3.49637896e-01 2.67751098e-01]\n",
      "   [9.99986470e-01 1.38772547e+00 0.00000000e+00 ... 2.23506594e+00\n",
      "    8.62226784e-01 8.52786720e-01]\n",
      "   [2.44079041e+00 1.96806252e+00 1.12086332e+00 ... 6.45604432e-01\n",
      "    3.15314054e+00 1.06479454e+00]\n",
      "   [3.06246424e+00 1.26856649e+00 1.10886359e+00 ... 1.47336876e+00\n",
      "    3.68241477e+00 1.07605565e+00]\n",
      "   [2.05596852e+00 8.82676184e-01 1.09720528e+00 ... 1.08494592e+00\n",
      "    3.59965801e+00 3.59343112e-01]]\n",
      "\n",
      "  [[5.75176656e-01 3.23766232e-01 0.00000000e+00 ... 1.00398886e+00\n",
      "    0.00000000e+00 3.54537785e-01]\n",
      "   [1.69501102e+00 1.67036235e+00 0.00000000e+00 ... 3.09351087e+00\n",
      "    3.85971129e-01 8.19724321e-01]\n",
      "   [8.35219860e-01 3.97743726e+00 9.53131557e-01 ... 2.39165401e+00\n",
      "    8.64084721e-01 5.86878121e-01]\n",
      "   [3.49497843e+00 9.70052302e-01 1.66988289e+00 ... 2.64448118e+00\n",
      "    1.17018497e+00 8.71140361e-01]\n",
      "   [1.93467760e+00 1.68183073e-01 1.88189113e+00 ... 1.15409851e+00\n",
      "    2.23213410e+00 0.00000000e+00]]\n",
      "\n",
      "  [[8.93100619e-01 4.08224404e-01 0.00000000e+00 ... 1.39274287e+00\n",
      "    0.00000000e+00 1.39805031e+00]\n",
      "   [3.46550775e+00 2.27860355e+00 1.29352003e-01 ... 4.22273684e+00\n",
      "    0.00000000e+00 3.51001716e+00]\n",
      "   [2.34794140e+00 3.88054347e+00 8.56959641e-01 ... 3.47881556e+00\n",
      "    0.00000000e+00 2.24757481e+00]\n",
      "   [2.49880648e+00 5.28226495e-01 8.99924338e-01 ... 3.19023180e+00\n",
      "    3.59971285e-01 1.03837192e+00]\n",
      "   [1.36105895e+00 8.66248667e-01 1.56099319e+00 ... 8.50280821e-01\n",
      "    2.32602668e+00 0.00000000e+00]]\n",
      "\n",
      "  [[1.01010585e+00 1.01437986e+00 1.28975630e-01 ... 3.11268508e-01\n",
      "    0.00000000e+00 1.53163183e+00]\n",
      "   [1.75482082e+00 3.71956563e+00 2.65887994e-02 ... 3.01047587e+00\n",
      "    0.00000000e+00 3.60565567e+00]\n",
      "   [1.27379811e+00 2.75126696e+00 6.16310239e-01 ... 2.99461508e+00\n",
      "    0.00000000e+00 3.09972525e+00]\n",
      "   [2.19030261e+00 1.90972018e+00 7.34269440e-01 ... 1.99508810e+00\n",
      "    3.01326364e-01 1.48030746e+00]\n",
      "   [2.07459021e+00 0.00000000e+00 6.82282984e-01 ... 1.00710154e+00\n",
      "    2.31676579e+00 1.53494203e+00]]]\n",
      "\n",
      "\n",
      " [[[5.41955709e-01 0.00000000e+00 3.47193509e-01 ... 7.45492280e-01\n",
      "    0.00000000e+00 3.33137717e-03]\n",
      "   [5.99352658e-01 0.00000000e+00 2.46733293e-01 ... 1.07166159e+00\n",
      "    0.00000000e+00 8.28368869e-03]\n",
      "   [3.61036837e-01 1.07709813e+00 2.16938898e-01 ... 1.81843245e+00\n",
      "    6.46537662e-01 0.00000000e+00]\n",
      "   [0.00000000e+00 6.74275160e-01 6.42835140e-01 ... 1.77721548e+00\n",
      "    9.20020640e-01 0.00000000e+00]\n",
      "   [0.00000000e+00 3.17636132e-01 1.49365410e-01 ... 3.83363754e-01\n",
      "    0.00000000e+00 0.00000000e+00]]\n",
      "\n",
      "  [[1.56137717e+00 4.40356731e-01 4.86549325e-02 ... 6.34365797e-01\n",
      "    0.00000000e+00 0.00000000e+00]\n",
      "   [2.86519146e+00 5.93877256e-01 0.00000000e+00 ... 9.29658055e-01\n",
      "    0.00000000e+00 0.00000000e+00]\n",
      "   [1.53358042e+00 1.81729746e+00 0.00000000e+00 ... 2.57474947e+00\n",
      "    0.00000000e+00 0.00000000e+00]\n",
      "   [6.41146421e-01 5.17201185e-01 0.00000000e+00 ... 1.74008644e+00\n",
      "    0.00000000e+00 0.00000000e+00]\n",
      "   [6.77247122e-02 1.43559009e-01 0.00000000e+00 ... 7.81322658e-01\n",
      "    3.64220381e-01 0.00000000e+00]]\n",
      "\n",
      "  [[1.36834347e+00 7.29798794e-01 0.00000000e+00 ... 0.00000000e+00\n",
      "    1.01585589e-01 9.18077081e-02]\n",
      "   [3.10160232e+00 1.74102342e+00 0.00000000e+00 ... 1.07575917e+00\n",
      "    3.00173610e-01 0.00000000e+00]\n",
      "   [1.75581956e+00 2.84930110e+00 0.00000000e+00 ... 2.71232939e+00\n",
      "    9.08534527e-01 0.00000000e+00]\n",
      "   [9.52739656e-01 6.93778098e-01 0.00000000e+00 ... 1.56088936e+00\n",
      "    3.01902115e-01 0.00000000e+00]\n",
      "   [1.26491678e+00 0.00000000e+00 2.76024610e-01 ... 6.76480770e-01\n",
      "    5.89577377e-01 3.03456128e-01]]\n",
      "\n",
      "  [[7.25245416e-01 8.51741731e-01 0.00000000e+00 ... 0.00000000e+00\n",
      "    5.80260515e-01 0.00000000e+00]\n",
      "   [1.31783080e+00 2.43090510e+00 0.00000000e+00 ... 1.78074372e+00\n",
      "    1.01114702e+00 2.42378309e-01]\n",
      "   [6.10362813e-02 2.57546329e+00 0.00000000e+00 ... 2.41114235e+00\n",
      "    1.46624982e+00 0.00000000e+00]\n",
      "   [0.00000000e+00 7.18749881e-01 0.00000000e+00 ... 7.74579406e-01\n",
      "    8.92027617e-01 3.29792197e-03]\n",
      "   [1.47319961e+00 0.00000000e+00 0.00000000e+00 ... 0.00000000e+00\n",
      "    1.16136765e+00 5.51291227e-01]]\n",
      "\n",
      "  [[4.16591823e-01 8.55436385e-01 0.00000000e+00 ... 0.00000000e+00\n",
      "    2.36318424e-01 0.00000000e+00]\n",
      "   [1.39250636e+00 2.91570425e+00 0.00000000e+00 ... 1.50639915e+00\n",
      "    1.48994851e+00 6.28317058e-01]\n",
      "   [5.23575544e-01 2.95016313e+00 0.00000000e+00 ... 2.39115405e+00\n",
      "    1.03465903e+00 7.50806034e-01]\n",
      "   [4.55483526e-01 5.88976026e-01 0.00000000e+00 ... 7.19002724e-01\n",
      "    1.43321490e+00 3.54549944e-01]\n",
      "   [0.00000000e+00 0.00000000e+00 0.00000000e+00 ... 0.00000000e+00\n",
      "    5.33187747e-01 2.95173764e-01]]]\n",
      "\n",
      "\n",
      " ...\n",
      "\n",
      "\n",
      " [[[8.01708460e-01 5.31572104e-01 0.00000000e+00 ... 0.00000000e+00\n",
      "    1.19424248e-02 4.73632395e-01]\n",
      "   [1.74299687e-01 3.79226446e-01 0.00000000e+00 ... 5.82624495e-01\n",
      "    2.72675067e-01 0.00000000e+00]\n",
      "   [5.88893235e-01 1.15961909e+00 0.00000000e+00 ... 8.93325448e-01\n",
      "    1.24917972e+00 1.28495812e+00]\n",
      "   [5.20279765e-01 6.17677271e-01 0.00000000e+00 ... 3.96412164e-01\n",
      "    1.80889690e+00 1.88090861e+00]\n",
      "   [6.80241883e-01 8.27481031e-01 0.00000000e+00 ... 0.00000000e+00\n",
      "    2.16758937e-01 2.18436766e+00]]\n",
      "\n",
      "  [[8.92541468e-01 1.36437908e-01 0.00000000e+00 ... 3.02612126e-01\n",
      "    5.77699840e-01 0.00000000e+00]\n",
      "   [0.00000000e+00 0.00000000e+00 0.00000000e+00 ... 1.17897511e+00\n",
      "    5.14324844e-01 0.00000000e+00]\n",
      "   [0.00000000e+00 3.07149112e-01 0.00000000e+00 ... 6.18003130e-01\n",
      "    1.44066155e+00 9.38822329e-01]\n",
      "   [1.74256623e-01 8.57560635e-01 0.00000000e+00 ... 0.00000000e+00\n",
      "    1.57813764e+00 2.43519044e+00]\n",
      "   [1.27649939e+00 3.70587677e-01 6.95411980e-01 ... 7.59344697e-01\n",
      "    1.92934656e+00 1.84759176e+00]]\n",
      "\n",
      "  [[0.00000000e+00 0.00000000e+00 0.00000000e+00 ... 1.66344678e+00\n",
      "    1.39711845e+00 7.14669228e-01]\n",
      "   [0.00000000e+00 0.00000000e+00 0.00000000e+00 ... 2.98190808e+00\n",
      "    1.36796474e+00 6.03380084e-01]\n",
      "   [0.00000000e+00 0.00000000e+00 0.00000000e+00 ... 1.35301220e+00\n",
      "    1.36434436e+00 6.70177996e-01]\n",
      "   [0.00000000e+00 0.00000000e+00 0.00000000e+00 ... 8.68619442e-01\n",
      "    1.61623931e+00 1.58410859e+00]\n",
      "   [0.00000000e+00 0.00000000e+00 0.00000000e+00 ... 1.21673214e+00\n",
      "    1.28081691e+00 1.86700666e+00]]\n",
      "\n",
      "  [[0.00000000e+00 0.00000000e+00 7.54940361e-02 ... 1.87372851e+00\n",
      "    6.18490100e-01 4.40645069e-01]\n",
      "   [0.00000000e+00 0.00000000e+00 0.00000000e+00 ... 1.00142276e+00\n",
      "    1.29435790e+00 3.12129706e-01]\n",
      "   [2.91916490e-01 6.42640710e-01 5.84887385e-01 ... 4.28663760e-01\n",
      "    1.70802295e+00 6.75339878e-01]\n",
      "   [1.09912127e-01 1.97463796e-01 1.31466758e+00 ... 7.99722672e-02\n",
      "    1.70031595e+00 7.51525700e-01]\n",
      "   [0.00000000e+00 0.00000000e+00 3.74954343e-01 ... 4.45853531e-01\n",
      "    4.61188614e-01 1.07082617e+00]]\n",
      "\n",
      "  [[0.00000000e+00 0.00000000e+00 0.00000000e+00 ... 1.59106314e-01\n",
      "    0.00000000e+00 5.54877400e-01]\n",
      "   [5.71868122e-01 0.00000000e+00 1.65690705e-01 ... 8.47006857e-01\n",
      "    2.23560065e-01 3.56007904e-01]\n",
      "   [3.75981987e-01 0.00000000e+00 6.59975648e-01 ... 2.30471909e-01\n",
      "    5.89882433e-01 6.66099072e-01]\n",
      "   [2.35649765e-01 0.00000000e+00 9.22400773e-01 ... 9.02925134e-02\n",
      "    3.45391810e-01 7.33649909e-01]\n",
      "   [0.00000000e+00 2.35770717e-01 1.63198543e+00 ... 0.00000000e+00\n",
      "    3.50193799e-01 9.15790319e-01]]]\n",
      "\n",
      "\n",
      " [[[4.51862663e-01 0.00000000e+00 0.00000000e+00 ... 0.00000000e+00\n",
      "    9.51779425e-01 0.00000000e+00]\n",
      "   [0.00000000e+00 5.24571240e-01 0.00000000e+00 ... 0.00000000e+00\n",
      "    5.38229167e-01 6.35381162e-01]\n",
      "   [0.00000000e+00 6.78800762e-01 0.00000000e+00 ... 0.00000000e+00\n",
      "    4.11478132e-01 0.00000000e+00]\n",
      "   [0.00000000e+00 1.12766549e-01 0.00000000e+00 ... 0.00000000e+00\n",
      "    2.76329249e-01 2.45507985e-01]\n",
      "   [5.27164340e-02 0.00000000e+00 0.00000000e+00 ... 0.00000000e+00\n",
      "    0.00000000e+00 1.27998963e-01]]\n",
      "\n",
      "  [[1.65491134e-01 3.81378561e-01 0.00000000e+00 ... 1.85728535e-01\n",
      "    1.28854418e+00 0.00000000e+00]\n",
      "   [0.00000000e+00 6.60487235e-01 0.00000000e+00 ... 6.99297309e-01\n",
      "    1.88397777e+00 0.00000000e+00]\n",
      "   [0.00000000e+00 0.00000000e+00 0.00000000e+00 ... 1.15595710e+00\n",
      "    1.21793187e+00 0.00000000e+00]\n",
      "   [0.00000000e+00 0.00000000e+00 0.00000000e+00 ... 1.34157288e+00\n",
      "    1.48784909e-02 0.00000000e+00]\n",
      "   [1.11000575e-01 0.00000000e+00 0.00000000e+00 ... 1.37679517e-01\n",
      "    0.00000000e+00 0.00000000e+00]]\n",
      "\n",
      "  [[0.00000000e+00 0.00000000e+00 0.00000000e+00 ... 3.04115701e+00\n",
      "    1.84105670e+00 1.18766487e+00]\n",
      "   [0.00000000e+00 0.00000000e+00 0.00000000e+00 ... 2.32629251e+00\n",
      "    2.21448302e+00 1.49791396e+00]\n",
      "   [0.00000000e+00 0.00000000e+00 0.00000000e+00 ... 1.53639925e+00\n",
      "    1.31177056e+00 3.39101046e-01]\n",
      "   [0.00000000e+00 0.00000000e+00 0.00000000e+00 ... 2.36083651e+00\n",
      "    2.18036699e+00 0.00000000e+00]\n",
      "   [3.88796568e-01 0.00000000e+00 0.00000000e+00 ... 1.74883091e+00\n",
      "    1.80642414e+00 0.00000000e+00]]\n",
      "\n",
      "  [[2.05642849e-01 4.97564673e-01 0.00000000e+00 ... 5.34453034e-01\n",
      "    1.48555434e+00 1.04790699e+00]\n",
      "   [1.33748129e-01 0.00000000e+00 0.00000000e+00 ... 3.37672979e-01\n",
      "    2.51133990e+00 1.54537404e+00]\n",
      "   [0.00000000e+00 3.67000550e-01 0.00000000e+00 ... 4.76602197e-01\n",
      "    2.23367023e+00 1.03586173e+00]\n",
      "   [0.00000000e+00 0.00000000e+00 0.00000000e+00 ... 3.99502069e-02\n",
      "    1.14211309e+00 1.73779935e-01]\n",
      "   [0.00000000e+00 1.84763417e-01 0.00000000e+00 ... 1.04813826e+00\n",
      "    1.24695349e+00 0.00000000e+00]]\n",
      "\n",
      "  [[0.00000000e+00 9.75292772e-02 0.00000000e+00 ... 0.00000000e+00\n",
      "    1.60604656e-01 6.53890014e-01]\n",
      "   [0.00000000e+00 2.41552576e-01 0.00000000e+00 ... 0.00000000e+00\n",
      "    9.12186265e-01 8.65788400e-01]\n",
      "   [0.00000000e+00 8.68622541e-01 0.00000000e+00 ... 1.24326512e-01\n",
      "    1.26976109e+00 3.77502680e-01]\n",
      "   [1.97998494e-01 1.18909776e+00 0.00000000e+00 ... 1.06505060e+00\n",
      "    1.48345244e+00 6.67239428e-01]\n",
      "   [1.84117705e-01 6.77501023e-01 1.62950642e-02 ... 1.20370388e+00\n",
      "    1.36837423e+00 0.00000000e+00]]]\n",
      "\n",
      "\n",
      " [[[0.00000000e+00 5.85360117e-02 0.00000000e+00 ... 1.56517774e-01\n",
      "    0.00000000e+00 0.00000000e+00]\n",
      "   [0.00000000e+00 8.76879692e-01 0.00000000e+00 ... 0.00000000e+00\n",
      "    4.19793904e-01 1.34091020e-01]\n",
      "   [0.00000000e+00 1.21497452e+00 0.00000000e+00 ... 5.99338412e-01\n",
      "    0.00000000e+00 1.35584667e-01]\n",
      "   [0.00000000e+00 6.70034409e-01 3.66516858e-01 ... 1.64813542e+00\n",
      "    7.54012048e-01 2.73149639e-01]\n",
      "   [0.00000000e+00 0.00000000e+00 0.00000000e+00 ... 6.97083697e-02\n",
      "    4.81982052e-01 0.00000000e+00]]\n",
      "\n",
      "  [[3.68883535e-02 0.00000000e+00 0.00000000e+00 ... 3.44864964e-01\n",
      "    7.96552151e-02 5.74833572e-01]\n",
      "   [0.00000000e+00 1.99345157e-01 0.00000000e+00 ... 6.02863848e-01\n",
      "    9.85571146e-01 0.00000000e+00]\n",
      "   [0.00000000e+00 0.00000000e+00 0.00000000e+00 ... 9.73038793e-01\n",
      "    1.03201866e+00 8.61540511e-02]\n",
      "   [0.00000000e+00 0.00000000e+00 0.00000000e+00 ... 2.00706363e+00\n",
      "    1.96016800e+00 0.00000000e+00]\n",
      "   [3.08158081e-02 0.00000000e+00 0.00000000e+00 ... 3.78027886e-01\n",
      "    5.76054275e-01 0.00000000e+00]]\n",
      "\n",
      "  [[3.89816612e-01 2.09149905e-03 0.00000000e+00 ... 4.95587796e-01\n",
      "    4.70372081e-01 5.52749932e-01]\n",
      "   [3.90026607e-02 0.00000000e+00 0.00000000e+00 ... 1.48681211e+00\n",
      "    9.13508594e-01 6.82592928e-01]\n",
      "   [4.50600803e-01 0.00000000e+00 0.00000000e+00 ... 1.08818436e+00\n",
      "    7.25124121e-01 5.47124505e-01]\n",
      "   [0.00000000e+00 0.00000000e+00 0.00000000e+00 ... 1.65451694e+00\n",
      "    6.25597119e-01 6.58620149e-02]\n",
      "   [0.00000000e+00 0.00000000e+00 0.00000000e+00 ... 2.60831386e-01\n",
      "    0.00000000e+00 0.00000000e+00]]\n",
      "\n",
      "  [[6.82752192e-01 0.00000000e+00 0.00000000e+00 ... 9.01641667e-01\n",
      "    4.61093932e-01 6.83625996e-01]\n",
      "   [9.84855354e-01 5.05190849e-01 0.00000000e+00 ... 2.24460649e+00\n",
      "    7.61566103e-01 4.76884335e-01]\n",
      "   [9.88946736e-01 4.97108817e-01 0.00000000e+00 ... 9.09652114e-01\n",
      "    5.04896581e-01 2.41400167e-01]\n",
      "   [2.50663459e-01 5.45765519e-01 0.00000000e+00 ... 1.74404514e+00\n",
      "    1.47182226e+00 3.81654978e-01]\n",
      "   [6.35804608e-02 1.14920743e-01 0.00000000e+00 ... 9.97920156e-01\n",
      "    4.75225925e-01 1.12334736e-01]]\n",
      "\n",
      "  [[1.02859259e+00 0.00000000e+00 0.00000000e+00 ... 1.23508990e+00\n",
      "    0.00000000e+00 0.00000000e+00]\n",
      "   [8.02051187e-01 2.74850786e-01 0.00000000e+00 ... 1.54182482e+00\n",
      "    1.56776679e+00 9.42613855e-02]\n",
      "   [3.33414197e-01 4.89591241e-01 7.00332224e-01 ... 1.32676065e+00\n",
      "    2.04571605e+00 1.33259499e+00]\n",
      "   [0.00000000e+00 1.69643044e-01 4.27923948e-01 ... 1.40021360e+00\n",
      "    1.15128839e+00 4.51246887e-01]\n",
      "   [0.00000000e+00 4.17674512e-01 1.04545265e-01 ... 6.24359667e-01\n",
      "    1.00326991e+00 0.00000000e+00]]]]\n",
      "rounded test_labels [[1. 0. 0. 0.]\n",
      " [1. 0. 0. 0.]\n",
      " [1. 0. 0. 0.]\n",
      " [1. 0. 0. 0.]\n",
      " [1. 0. 0. 0.]\n",
      " [1. 0. 0. 0.]\n",
      " [1. 0. 0. 0.]\n",
      " [1. 0. 0. 0.]\n",
      " [1. 0. 0. 0.]\n",
      " [1. 0. 0. 0.]\n",
      " [1. 0. 0. 0.]\n",
      " [0. 0. 1. 0.]\n",
      " [1. 0. 0. 0.]\n",
      " [0. 0. 1. 0.]\n",
      " [1. 0. 0. 0.]\n",
      " [0. 0. 1. 0.]\n",
      " [0. 0. 1. 0.]\n",
      " [1. 0. 0. 0.]\n",
      " [1. 0. 0. 0.]\n",
      " [1. 0. 0. 0.]\n",
      " [1. 0. 0. 0.]\n",
      " [1. 0. 0. 0.]\n",
      " [1. 0. 0. 0.]\n",
      " [1. 0. 0. 0.]\n",
      " [1. 0. 0. 0.]\n",
      " [0. 0. 1. 0.]\n",
      " [1. 0. 0. 0.]\n",
      " [0. 0. 1. 0.]\n",
      " [1. 0. 0. 0.]\n",
      " [0. 0. 1. 0.]\n",
      " [1. 0. 0. 0.]\n",
      " [1. 0. 0. 0.]\n",
      " [0. 0. 1. 0.]\n",
      " [1. 0. 0. 0.]\n",
      " [1. 0. 0. 0.]\n",
      " [0. 1. 0. 0.]\n",
      " [1. 0. 0. 0.]\n",
      " [1. 0. 0. 0.]\n",
      " [1. 0. 0. 0.]\n",
      " [1. 0. 0. 0.]\n",
      " [1. 0. 0. 0.]\n",
      " [0. 1. 0. 0.]\n",
      " [0. 1. 0. 0.]\n",
      " [0. 1. 0. 0.]\n",
      " [0. 1. 0. 0.]\n",
      " [0. 1. 0. 0.]\n",
      " [0. 1. 0. 0.]\n",
      " [0. 1. 0. 0.]\n",
      " [0. 1. 0. 0.]\n",
      " [0. 1. 0. 0.]\n",
      " [0. 1. 0. 0.]\n",
      " [0. 1. 0. 0.]\n",
      " [0. 1. 0. 0.]\n",
      " [0. 1. 0. 0.]\n",
      " [0. 1. 0. 0.]\n",
      " [0. 1. 0. 0.]\n",
      " [0. 1. 0. 0.]\n",
      " [0. 1. 0. 0.]\n",
      " [0. 1. 0. 0.]\n",
      " [0. 1. 0. 0.]\n",
      " [0. 1. 0. 0.]\n",
      " [0. 1. 0. 0.]\n",
      " [0. 1. 0. 0.]\n",
      " [0. 1. 0. 0.]\n",
      " [0. 1. 0. 0.]\n",
      " [0. 1. 0. 0.]\n",
      " [0. 1. 0. 0.]\n",
      " [0. 1. 0. 0.]\n",
      " [0. 1. 0. 0.]\n",
      " [0. 1. 0. 0.]\n",
      " [0. 1. 0. 0.]\n",
      " [0. 1. 0. 0.]\n",
      " [0. 1. 0. 0.]\n",
      " [0. 0. 1. 0.]\n",
      " [0. 0. 1. 0.]\n",
      " [0. 0. 1. 0.]\n",
      " [0. 1. 0. 0.]\n",
      " [0. 0. 1. 0.]\n",
      " [0. 0. 1. 0.]\n",
      " [0. 0. 1. 0.]\n",
      " [0. 0. 1. 0.]\n",
      " [0. 0. 1. 0.]\n",
      " [0. 0. 1. 0.]\n",
      " [0. 0. 1. 0.]\n",
      " [0. 0. 1. 0.]\n",
      " [0. 0. 1. 0.]\n",
      " [0. 0. 1. 0.]\n",
      " [0. 0. 1. 0.]\n",
      " [0. 0. 1. 0.]\n",
      " [0. 0. 1. 0.]\n",
      " [0. 0. 1. 0.]\n",
      " [0. 0. 1. 0.]\n",
      " [0. 0. 1. 0.]\n",
      " [0. 0. 1. 0.]\n",
      " [0. 0. 1. 0.]\n",
      " [0. 0. 1. 0.]\n",
      " [0. 0. 1. 0.]\n",
      " [0. 0. 1. 0.]\n",
      " [0. 0. 1. 0.]\n",
      " [0. 0. 1. 0.]\n",
      " [0. 0. 1. 0.]\n",
      " [0. 0. 1. 0.]\n",
      " [0. 0. 1. 0.]\n",
      " [0. 0. 1. 0.]\n",
      " [0. 0. 1. 0.]\n",
      " [0. 0. 1. 0.]\n",
      " [0. 0. 0. 1.]\n",
      " [0. 0. 0. 1.]\n",
      " [0. 0. 0. 1.]\n",
      " [0. 0. 0. 1.]\n",
      " [0. 0. 0. 1.]\n",
      " [0. 0. 0. 1.]\n",
      " [0. 0. 0. 1.]\n",
      " [0. 0. 0. 1.]\n",
      " [0. 0. 0. 1.]\n",
      " [0. 0. 0. 1.]\n",
      " [0. 0. 0. 1.]\n",
      " [0. 0. 0. 1.]\n",
      " [0. 0. 0. 1.]\n",
      " [0. 0. 0. 1.]\n",
      " [0. 0. 0. 1.]\n",
      " [0. 0. 0. 1.]\n",
      " [0. 0. 0. 1.]\n",
      " [0. 0. 0. 1.]\n",
      " [0. 0. 0. 1.]\n",
      " [0. 0. 0. 1.]\n",
      " [0. 0. 0. 1.]\n",
      " [0. 0. 0. 1.]\n",
      " [0. 0. 0. 1.]\n",
      " [0. 0. 0. 1.]\n",
      " [0. 0. 0. 1.]\n",
      " [0. 0. 0. 1.]]\n"
     ]
    }
   ],
   "source": [
    "print('test data', test_data)\n",
    "preds = np.round(model.predict(test_data),0) \n",
    "#to fit them into classification metrics and confusion metrics, some additional modificaitions are required\n",
    "print('rounded test_labels', preds)"
   ]
  },
  {
   "cell_type": "code",
   "execution_count": 15,
   "id": "c02c9318",
   "metadata": {},
   "outputs": [
    {
     "name": "stdout",
     "output_type": "stream",
     "text": [
      "                                                    precision    recall  f1-score   support\n",
      "\n",
      "Corn_(maize)___Cercospora_leaf_spot Gray_leaf_spot       1.00      0.78      0.88        41\n",
      "                       Corn_(maize)___Common_rust_       0.94      1.00      0.97        32\n",
      "                            Corn_(maize)___healthy       0.80      0.97      0.88        33\n",
      "               Corn_(maize)___Northern_Leaf_Blight       1.00      1.00      1.00        26\n",
      "\n",
      "                                         micro avg       0.92      0.92      0.92       132\n",
      "                                         macro avg       0.94      0.94      0.93       132\n",
      "                                      weighted avg       0.94      0.92      0.92       132\n",
      "                                       samples avg       0.92      0.92      0.92       132\n",
      "\n"
     ]
    }
   ],
   "source": [
    "animals = ['Corn_(maize)___Cercospora_leaf_spot Gray_leaf_spot','Corn_(maize)___Common_rust_','Corn_(maize)___healthy','Corn_(maize)___Northern_Leaf_Blight']\n",
    "classification_metrics = metrics.classification_report(test_labels, preds, target_names=animals )\n",
    "print(classification_metrics)"
   ]
  },
  {
   "cell_type": "code",
   "execution_count": 16,
   "id": "aca6b76b",
   "metadata": {},
   "outputs": [],
   "source": [
    "#Since our data is in dummy format we put the numpy array into a dataframe and call idxmax axis=1 to return the column\n",
    "# label of the maximum value thus creating a categorical variable\n",
    "#Basically, flipping a dummy variable back to it's categorical variable\n",
    "categorical_test_labels = pd.DataFrame(test_labels).idxmax(axis=1)\n",
    "categorical_preds = pd.DataFrame(preds).idxmax(axis=1)"
   ]
  },
  {
   "cell_type": "code",
   "execution_count": 17,
   "id": "76d3174b",
   "metadata": {},
   "outputs": [],
   "source": [
    "confusion_matrix= confusion_matrix(categorical_test_labels, categorical_preds)"
   ]
  },
  {
   "cell_type": "code",
   "execution_count": 18,
   "id": "e754e631",
   "metadata": {},
   "outputs": [],
   "source": [
    "\n",
    "#To get better visual of the confusion matrix:\n",
    "def plot_confusion_matrix(cm, classes,\n",
    "             normalize=False,\n",
    "             title='Confusion matrix',\n",
    "             cmap=plt.cm.Blues):\n",
    "    #Add Normalization Option\n",
    "    '''prints pretty confusion metric with normalization option '''\n",
    "    if normalize:\n",
    "        cm = cm.astype('float') / cm.sum(axis=1)[:, np.newaxis]\n",
    "        print(\"Normalized confusion matrix\")\n",
    "    else:\n",
    "        print('Confusion matrix, without normalization')\n",
    "    \n",
    "#     print(cm)\n",
    "    \n",
    "    plt.imshow(cm, interpolation='nearest', cmap=cmap)\n",
    "    plt.title(title)\n",
    "    plt.colorbar()\n",
    "    tick_marks = np.arange(len(classes))\n",
    "    plt.xticks(tick_marks, classes, rotation=45)\n",
    "    plt.yticks(tick_marks, classes)\n",
    "    \n",
    "    fmt = '.2f' if normalize else 'd'\n",
    "    thresh = cm.max() / 2.\n",
    "    for i, j in itertools.product(range(cm.shape[0]), range(cm.shape[1])):\n",
    "        plt.text(j, i, format(cm[i, j], fmt), horizontalalignment=\"center\", color=\"white\" if cm[i, j] > thresh else \"black\")\n",
    "    \n",
    "    plt.tight_layout()\n",
    "    plt.ylabel('True label')\n",
    "    plt.xlabel('Predicted label')"
   ]
  },
  {
   "cell_type": "code",
   "execution_count": 19,
   "id": "9cce7ae3",
   "metadata": {},
   "outputs": [
    {
     "name": "stdout",
     "output_type": "stream",
     "text": [
      "Confusion matrix, without normalization\n"
     ]
    },
    {
     "data": {
      "image/png": "[encoded data removed]",
      "text/plain": [
       "<Figure size 432x288 with 2 Axes>"
      ]
     },
     "metadata": {
      "needs_background": "light"
     },
     "output_type": "display_data"
    }
   ],
   "source": [
    "plot_confusion_matrix(confusion_matrix, ['A','B','C','D'])"
   ]
  },
  {
   "cell_type": "code",
   "execution_count": 20,
   "id": "bae111d9",
   "metadata": {},
   "outputs": [
    {
     "name": "stdout",
     "output_type": "stream",
     "text": [
      "Normalized confusion matrix\n"
     ]
    },
    {
     "data": {
      "image/png": "[encoded data removed]",
      "text/plain": [
       "<Figure size 432x288 with 2 Axes>"
      ]
     },
     "metadata": {
      "needs_background": "light"
     },
     "output_type": "display_data"
    }
   ],
   "source": [
    "#Those numbers are all over the place. Now turning normalize= True\n",
    "plot_confusion_matrix(confusion_matrix, \n",
    "                      ['A','B','C','D'],\n",
    "                     normalize=True)\n"
   ]
  },
  {
   "cell_type": "code",
   "execution_count": 21,
   "id": "a73fcfb5",
   "metadata": {},
   "outputs": [],
   "source": [
    "def read_image(file_path):\n",
    "    print(\"[INFO] loading and preprocessing image...\")  \n",
    "    image = load_img(file_path, target_size=(224, 224))  \n",
    "    image = img_to_array(image)  \n",
    "    image = np.expand_dims(image, axis=0)\n",
    "    image /= 255.  \n",
    "    return image"
   ]
  },
  {
   "cell_type": "code",
   "execution_count": 22,
   "id": "82651168",
   "metadata": {},
   "outputs": [],
   "source": [
    "from keras.models import Sequential "
   ]
  },
  {
   "cell_type": "code",
   "execution_count": 23,
   "id": "1408e400",
   "metadata": {},
   "outputs": [],
   "source": [
    "def test_single_image(path):\n",
    "    animals =  ['Corn_(maize)___Cercospora_leaf_spot Gray_leaf_spot','Corn_(maize)___Common_rust_','Corn_(maize)___healthy','Corn_(maize)___Northern_Leaf_Blight']\n",
    "    images = read_image(path)\n",
    "    time.sleep(.5)\n",
    "    bt_prediction = inc.predict(images)  \n",
    "    preds = model.predict(bt_prediction)\n",
    "    for idx, animal, x in zip(range(0,6), animals , preds[0]):\n",
    "        print(\"ID: {}, Label: {} {}%\".format(idx, animal, round(x*100,2) ))\n",
    "    print('Final Decision:')\n",
    "    time.sleep(.5)\n",
    "    for x in range(3):\n",
    "        print('.'*(x+1))\n",
    "        time.sleep(.2)\n",
    "#     class_predicted = model.predict_classes(bt_prediction)\n",
    "#     class_dictionary = generator_top.class_indices  \n",
    "#     inv_map = {v: k for k, v in class_dictionary.items()}  \n",
    "#     print(\"ID: {}, Label: {}\".format(class_predicted[0], inv_map[class_predicted[0]]))  \n",
    "    return load_img(path)"
   ]
  },
  {
   "cell_type": "code",
   "execution_count": 24,
   "id": "10fdcc73",
   "metadata": {},
   "outputs": [],
   "source": [
    "path = 'data/test/Corn_(maize)___Common_rust_/RS_Rust 2741.jpg'"
   ]
  },
  {
   "cell_type": "code",
   "execution_count": 25,
   "id": "604dded9",
   "metadata": {},
   "outputs": [
    {
     "name": "stdout",
     "output_type": "stream",
     "text": [
      "[INFO] loading and preprocessing image...\n",
      "ID: 0, Label: Corn_(maize)___Cercospora_leaf_spot Gray_leaf_spot 0.0%\n",
      "ID: 1, Label: Corn_(maize)___Common_rust_ 100.0%\n",
      "ID: 2, Label: Corn_(maize)___healthy 0.0%\n",
      "ID: 3, Label: Corn_(maize)___Northern_Leaf_Blight 0.0%\n",
      "Final Decision:\n",
      ".\n",
      "..\n",
      "...\n"
     ]
    },
    {
     "data": {
      "image/png": "[encoded data removed]",
      "text/plain": [
       "<PIL.JpegImagePlugin.JpegImageFile image mode=RGB size=256x256 at 0x25C95CF77C0>"
      ]
     },
     "execution_count": 25,
     "metadata": {},
     "output_type": "execute_result"
    }
   ],
   "source": [
    "test_single_image(path)"
   ]
  },
  {
   "cell_type": "code",
   "execution_count": null,
   "id": "f632be64",
   "metadata": {},
   "outputs": [],
   "source": []
  },
  {
   "cell_type": "code",
   "execution_count": null,
   "id": "17115ae5",
   "metadata": {},
   "outputs": [],
   "source": []
  }
 ],
 "metadata": {
  "kernelspec": {
   "display_name": "Python 3 (ipykernel)",
   "language": "python",
   "name": "python3"
  },
  "language_info": {
   "codemirror_mode": {
    "name": "ipython",
    "version": 3
   },
   "file_extension": ".py",
   "mimetype": "text/x-python",
   "name": "python",
   "nbconvert_exporter": "python",
   "pygments_lexer": "ipython3",
   "version": "3.8.1"
  }
 },
 "nbformat": 4,
 "nbformat_minor": 5
}
